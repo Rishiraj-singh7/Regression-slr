{
 "cells": [
  {
   "cell_type": "markdown",
   "metadata": {},
   "source": [
    "Univariate Analysis to Calculate Mean Squared Loss"
   ]
  },
  {
   "cell_type": "markdown",
   "metadata": {},
   "source": [
    "For Teacher1:"
   ]
  },
  {
   "cell_type": "code",
   "execution_count": 6,
   "metadata": {},
   "outputs": [],
   "source": [
    "# students  marks\n",
    "\n",
    "# A          19\n",
    "# B          17\n",
    "# C          09\n",
    "# D          13\n",
    "# E          12\n",
    "\n",
    "# TOTAL      70"
   ]
  },
  {
   "cell_type": "code",
   "execution_count": 1,
   "metadata": {},
   "outputs": [
    {
     "name": "stdout",
     "output_type": "stream",
     "text": [
      "12.8\n"
     ]
    }
   ],
   "source": [
    "import numpy as np \n",
    "\n",
    "# Given values \n",
    "Y_true = [19,17,9,13,12] # Y_true = Y (original values) \n",
    "\n",
    "# calculated values \n",
    "Y_pred = 14 # Y_pred = Y' [14,14,14,14,14]\n",
    "\n",
    "# Mean Squared Error \n",
    "MSE = np.square(np.subtract(Y_true,Y_pred)).mean()\n",
    "\n",
    "print(MSE)"
   ]
  },
  {
   "cell_type": "code",
   "execution_count": 2,
   "metadata": {},
   "outputs": [],
   "source": [
    "from sklearn.metrics import mean_squared_error \n",
    "\n",
    "# Given values \n",
    "Y_true = [19,17,9,13,12] # Y_true = Y (original values) \n",
    "\n",
    "# calculated values \n",
    "Y_pred = [14,14,14,14,14] # Y_pred = Y' \n",
    "\n",
    "# Calculation of Mean Squared Error (MSE) \n",
    "MSE = mean_squared_error(Y_true,Y_pred)\n"
   ]
  },
  {
   "cell_type": "code",
   "execution_count": 3,
   "metadata": {},
   "outputs": [
    {
     "name": "stdout",
     "output_type": "stream",
     "text": [
      "12.8\n"
     ]
    }
   ],
   "source": [
    "print(MSE)"
   ]
  },
  {
   "cell_type": "markdown",
   "metadata": {},
   "source": [
    "For Teacher2:"
   ]
  },
  {
   "cell_type": "code",
   "execution_count": 7,
   "metadata": {},
   "outputs": [],
   "source": [
    "# students  marks\n",
    "\n",
    "# A          14\n",
    "# B          15\n",
    "# C          16\n",
    "# D          13\n",
    "# E          12\n",
    "\n",
    "# TOTAL      70"
   ]
  },
  {
   "cell_type": "code",
   "execution_count": 4,
   "metadata": {},
   "outputs": [
    {
     "name": "stdout",
     "output_type": "stream",
     "text": [
      "2.0\n"
     ]
    }
   ],
   "source": [
    "# Given values \n",
    "Y_true = [14,15,16,13,12] # Y_true = Y (original values) \n",
    "\n",
    "# calculated values \n",
    "Y_pred = [14,14,14,14,14] # Y_pred = Y' \n",
    "\n",
    "# Mean Squared Error \n",
    "MSE = np.square(np.subtract(Y_true,Y_pred)).mean() \n",
    "\n",
    "print(MSE)"
   ]
  },
  {
   "cell_type": "code",
   "execution_count": 5,
   "metadata": {},
   "outputs": [
    {
     "name": "stdout",
     "output_type": "stream",
     "text": [
      "2.0\n"
     ]
    }
   ],
   "source": [
    "# Given values \n",
    "Y_true = [14,15,16,13,12] # Y_true = Y (original values) \n",
    "\n",
    "# calculated values \n",
    "Y_pred = [14,14,14,14,14] # Y_pred = Y' \n",
    "\n",
    "# Calculation of Mean Squared Error (MSE) \n",
    "MSE = mean_squared_error(Y_true,Y_pred)\n",
    "\n",
    "print(MSE)\n"
   ]
  },
  {
   "cell_type": "code",
   "execution_count": null,
   "metadata": {},
   "outputs": [],
   "source": []
  }
 ],
 "metadata": {
  "kernelspec": {
   "display_name": "Python 3.8.10 64-bit",
   "language": "python",
   "name": "python3"
  },
  "language_info": {
   "codemirror_mode": {
    "name": "ipython",
    "version": 3
   },
   "file_extension": ".py",
   "mimetype": "text/x-python",
   "name": "python",
   "nbconvert_exporter": "python",
   "pygments_lexer": "ipython3",
   "version": "3.8.10"
  },
  "orig_nbformat": 4,
  "vscode": {
   "interpreter": {
    "hash": "916dbcbb3f70747c44a77c7bcd40155683ae19c65e1c03b4aa3499c5328201f1"
   }
  }
 },
 "nbformat": 4,
 "nbformat_minor": 2
}
